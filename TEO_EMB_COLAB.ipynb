{
  "nbformat": 4,
  "nbformat_minor": 0,
  "metadata": {
    "colab": {
      "provenance": []
    },
    "kernelspec": {
      "name": "python3",
      "display_name": "Python 3"
    },
    "language_info": {
      "name": "python"
    }
  },
  "cells": [
    {
      "cell_type": "markdown",
      "source": [
        "# Using OpenAI embedding models"
      ],
      "metadata": {
        "id": "6YUMMg7shDQl"
      }
    },
    {
      "cell_type": "markdown",
      "source": [
        "## Installation and loading of libraries"
      ],
      "metadata": {
        "id": "ZBxk9udQhITF"
      }
    },
    {
      "cell_type": "code",
      "source": [
        "!pip install openai\n",
        "!pip install tiktoken"
      ],
      "metadata": {
        "id": "CGEqpggIOO-K"
      },
      "execution_count": null,
      "outputs": []
    },
    {
      "cell_type": "code",
      "source": [
        "import openai\n",
        "from getpass import getpass\n",
        "import os\n",
        "import pandas as pd\n",
        "import numpy as np\n",
        "from sklearn.metrics.pairwise import cosine_similarity"
      ],
      "metadata": {
        "id": "hNorabdjOiB7"
      },
      "execution_count": null,
      "outputs": []
    },
    {
      "cell_type": "code",
      "source": [
        "OPENAI_API_KEY = getpass('Enter the secret value: ')\n",
        "openai.api_key = OPENAI_API_KEY"
      ],
      "metadata": {
        "id": "TM3ZEVlHO2Ka"
      },
      "execution_count": null,
      "outputs": []
    },
    {
      "cell_type": "markdown",
      "source": [
        "## Generating embeddings"
      ],
      "metadata": {
        "id": "Rt_hOgNjS-WE"
      }
    },
    {
      "cell_type": "code",
      "execution_count": null,
      "metadata": {
        "id": "a-mEpkxfNOl_"
      },
      "outputs": [],
      "source": [
        "def get_embedding(text, model='text-embedding-3-small'):\n",
        "    text = text.replace('\\n','')\n",
        "    return openai.embeddings.create(input = [text], model=model).data[0].embedding"
      ]
    },
    {
      "cell_type": "code",
      "source": [
        "embedding_prueba = get_embedding('esto es una prueba de embeddings para openAI')"
      ],
      "metadata": {
        "id": "GPPY-AJLFFUw"
      },
      "execution_count": null,
      "outputs": []
    },
    {
      "cell_type": "code",
      "source": [
        "len(embedding_prueba)"
      ],
      "metadata": {
        "id": "Ckb5JRtBFNU-"
      },
      "execution_count": null,
      "outputs": []
    },
    {
      "cell_type": "markdown",
      "source": [
        "### Test 1"
      ],
      "metadata": {
        "id": "UaejducjICsb"
      }
    },
    {
      "cell_type": "code",
      "metadata": {
        "id": "8d5eddf7"
      },
      "source": [
        "# Try different words here\n",
        "word1 = \"brother\"\n",
        "word2 = \"sister\"\n",
        "word3 = \"man\"\n",
        "word4 = \"woman\"\n",
        "\n",
        "emb1 = get_embedding(word1)\n",
        "emb2 = get_embedding(word2)\n",
        "emb3 = get_embedding(word3)\n",
        "emb4 = get_embedding(word4)\n",
        "\n",
        "result_vector = np.array(emb1) - np.array(emb3) + np.array(emb4)\n",
        "similarity = cosine_similarity(result_vector.reshape(1, -1), np.array(emb2).reshape(1, -1))[0][0]\n",
        "\n",
        "print(f\"Cosine similarity between ({word1} - {word3} + {word4}) and {word2}: {similarity}\")"
      ],
      "execution_count": null,
      "outputs": []
    },
    {
      "cell_type": "markdown",
      "source": [
        "### Test 2"
      ],
      "metadata": {
        "id": "MwXV6uoXJ7aQ"
      }
    },
    {
      "cell_type": "code",
      "source": [
        "word_pairs = [\n",
        "    (\"cat\", \"dog\"),\n",
        "    (\"dog\", \"airplane\"),\n",
        "    (\"cat\", \"airplane\"),\n",
        "    (\"airplane\", \"helicopter\")\n",
        "]\n",
        "\n",
        "for word1, word2 in word_pairs:\n",
        "    emb1 = get_embedding(word1)\n",
        "    emb2 = get_embedding(word2)\n",
        "    similarity = cosine_similarity(np.array(emb1).reshape(1, -1), np.array(emb2).reshape(1, -1))[0][0]\n",
        "    print(f\"Cosine similarity between '{word1}' and '{word2}': {similarity}\")"
      ],
      "metadata": {
        "id": "4V7KVydQJ6Ga"
      },
      "execution_count": null,
      "outputs": []
    }
  ]
}